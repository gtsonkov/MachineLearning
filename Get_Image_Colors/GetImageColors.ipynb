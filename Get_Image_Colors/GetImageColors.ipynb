{
 "cells": [
  {
   "cell_type": "code",
   "execution_count": 3,
   "metadata": {},
   "outputs": [],
   "source": [
    "from sklearn.cluster import KMeans\n",
    "from collections import Counter\n",
    "from matplotlib import pyplot as plt\n",
    "from IPython.display import Image as Image\n",
    "import cv2"
   ]
  },
  {
   "cell_type": "code",
   "execution_count": 2,
   "metadata": {},
   "outputs": [],
   "source": [
    "#RGB to hex function\n",
    "def rgbToHex(rgb):\n",
    "    hex = \"#{:02x}{:02x}{:02x}\".format(int(rgb[0]), int(rgb[1]), int(rgb[2]))\n",
    "    return hex\n",
    "#print(rgbToHex([255, 217, 0])) #test"
   ]
  },
  {
   "cell_type": "code",
   "execution_count": 6,
   "metadata": {},
   "outputs": [],
   "source": [
    "def plot_image_info(path, k=6):\n",
    "    #image load\n",
    "    img_bgr = cv2.imread(path)\n",
    "    img_rgb = cv2.cvtColor(img_bgr, cv2.COLOR_BGR2RGB)\n",
    "    # cluster the pixels and assign labels\n",
    "    clt = KMeans(n_clusters=k)\n",
    "    labels = clt.fit_predict(img_rgb)\n",
    "    # count labels\n",
    "    label_counts = Counter(labels)\n",
    "    total_count = sum(label_counts.values())\n",
    "    # subset out most popular centroid\n",
    "    center_colors = list(clt.cluster_centers_)\n",
    "    ordered_colors = [center_colors[i]/255 for i in label_counts.keys()]\n",
    "    color_labels = [rgb2hex(ordered_colors[i]*255) for i in label_counts.keys()]"
   ]
  },
  {
   "cell_type": "code",
   "execution_count": null,
   "metadata": {},
   "outputs": [],
   "source": []
  }
 ],
 "metadata": {
  "kernelspec": {
   "display_name": "Python 3",
   "language": "python",
   "name": "python3"
  },
  "language_info": {
   "codemirror_mode": {
    "name": "ipython",
    "version": 3
   },
   "file_extension": ".py",
   "mimetype": "text/x-python",
   "name": "python",
   "nbconvert_exporter": "python",
   "pygments_lexer": "ipython3",
   "version": "3.7.3"
  }
 },
 "nbformat": 4,
 "nbformat_minor": 2
}
